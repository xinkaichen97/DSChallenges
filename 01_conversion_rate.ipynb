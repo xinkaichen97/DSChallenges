{
  "nbformat": 4,
  "nbformat_minor": 0,
  "metadata": {
    "colab": {
      "name": "conversion_rate",
      "provenance": [],
      "authorship_tag": "ABX9TyODGgRUtXb/hq5XzqZ4NXPB"
    },
    "kernelspec": {
      "name": "python3",
      "display_name": "Python 3"
    }
  },
  "cells": [
    {
      "cell_type": "markdown",
      "metadata": {
        "id": "2S8bntEfByd3"
      },
      "source": [
        "# Import Libraries\r\n"
      ]
    },
    {
      "cell_type": "code",
      "metadata": {
        "colab": {
          "base_uri": "https://localhost:8080/"
        },
        "id": "cZPer1Xr7nWP",
        "outputId": "5ee68235-8301-4c84-fd3d-7b670ed4a8ab"
      },
      "source": [
        "!pip install h2o"
      ],
      "execution_count": 2,
      "outputs": [
        {
          "output_type": "stream",
          "text": [
            "Collecting h2o\n",
            "\u001b[?25l  Downloading https://files.pythonhosted.org/packages/3b/d1/9edb2359afa29049bb6e75f9a673bb68c897e7f3e6238ffb77ba9eddf04b/h2o-3.32.0.3.tar.gz (164.6MB)\n",
            "\u001b[K     |████████████████████████████████| 164.6MB 75kB/s \n",
            "\u001b[?25hRequirement already satisfied: requests in /usr/local/lib/python3.6/dist-packages (from h2o) (2.23.0)\n",
            "Requirement already satisfied: tabulate in /usr/local/lib/python3.6/dist-packages (from h2o) (0.8.7)\n",
            "Requirement already satisfied: future in /usr/local/lib/python3.6/dist-packages (from h2o) (0.16.0)\n",
            "Collecting colorama>=0.3.8\n",
            "  Downloading https://files.pythonhosted.org/packages/44/98/5b86278fbbf250d239ae0ecb724f8572af1c91f4a11edf4d36a206189440/colorama-0.4.4-py2.py3-none-any.whl\n",
            "Requirement already satisfied: idna<3,>=2.5 in /usr/local/lib/python3.6/dist-packages (from requests->h2o) (2.10)\n",
            "Requirement already satisfied: certifi>=2017.4.17 in /usr/local/lib/python3.6/dist-packages (from requests->h2o) (2020.12.5)\n",
            "Requirement already satisfied: chardet<4,>=3.0.2 in /usr/local/lib/python3.6/dist-packages (from requests->h2o) (3.0.4)\n",
            "Requirement already satisfied: urllib3!=1.25.0,!=1.25.1,<1.26,>=1.21.1 in /usr/local/lib/python3.6/dist-packages (from requests->h2o) (1.24.3)\n",
            "Building wheels for collected packages: h2o\n",
            "  Building wheel for h2o (setup.py) ... \u001b[?25l\u001b[?25hdone\n",
            "  Created wheel for h2o: filename=h2o-3.32.0.3-py2.py3-none-any.whl size=164649662 sha256=d52bafd818c11205cc8e7c7fc234e63ed174c8a64b2c482707a00af94e44611e\n",
            "  Stored in directory: /root/.cache/pip/wheels/0a/fd/63/96d322a27867a81a2904172a75aed5241913d603a4b8c4b277\n",
            "Successfully built h2o\n",
            "Installing collected packages: colorama, h2o\n",
            "Successfully installed colorama-0.4.4 h2o-3.32.0.3\n"
          ],
          "name": "stdout"
        }
      ]
    },
    {
      "cell_type": "code",
      "metadata": {
        "id": "CRZeFLx07cVd"
      },
      "source": [
        "# basic\r\n",
        "import warnings\r\n",
        "warnings.simplefilter('ignore')\r\n",
        "\r\n",
        "import numpy as np\r\n",
        "import pandas as pd\r\n",
        "import seaborn as sns\r\n",
        "import matplotlib.pyplot as plt\r\n",
        "%matplotlib inline"
      ],
      "execution_count": 3,
      "outputs": []
    },
    {
      "cell_type": "code",
      "metadata": {
        "id": "tURDHv0CCL4k"
      },
      "source": [
        "# h2o\r\n",
        "import h2o\r\n",
        "from h2o.frame import H2OFrame\r\n",
        "from h2o.estimators.random_forest import H2ORandomForestEstimator\r\n",
        "from h2o.grid.grid_search import H2OGridSearch"
      ],
      "execution_count": null,
      "outputs": []
    },
    {
      "cell_type": "code",
      "metadata": {
        "id": "aiTZ2Icy_dXC"
      },
      "source": [
        "# Sci-kit learn\r\n",
        "from xgboost import XGBClassifier, XGBRegressor\r\n",
        "from sklearn.ensemble import RandomForestClassifier, RandomForestRegressor\r\n",
        "from sklearn.model_selection import train_test_split\r\n",
        "from sklearn.preprocessing import OneHotEncoder\r\n",
        "from sklearn.impute import SimpleImputer\r\n",
        "from sklearn.metrics import auc, roc_curve, classification_report, accuracy_score, mean_absolute_error"
      ],
      "execution_count": 59,
      "outputs": []
    },
    {
      "cell_type": "code",
      "metadata": {
        "id": "RyE0C9O6CRKl"
      },
      "source": [
        "# Torch\r\n",
        "import torch\r\n",
        "import torch.nn as nn\r\n",
        "import torch.nn.utils as utils\r\n",
        "import torch.functional as F\r\n",
        "import torch.optim as optim\r\n",
        "from torch.utils.data import DataLoader, Dataset"
      ],
      "execution_count": 20,
      "outputs": []
    },
    {
      "cell_type": "markdown",
      "metadata": {
        "id": "ega-TJI0B4J4"
      },
      "source": [
        "# Data Processing"
      ]
    },
    {
      "cell_type": "code",
      "metadata": {
        "colab": {
          "base_uri": "https://localhost:8080/",
          "height": 402
        },
        "id": "TEomvir17ulN",
        "outputId": "caf2fb9a-c4f2-402e-b9c4-3ef8d9f21e63"
      },
      "source": [
        "data = pd.read_csv('conversion_data.csv')\r\n",
        "data"
      ],
      "execution_count": 4,
      "outputs": [
        {
          "output_type": "execute_result",
          "data": {
            "text/html": [
              "<div>\n",
              "<style scoped>\n",
              "    .dataframe tbody tr th:only-of-type {\n",
              "        vertical-align: middle;\n",
              "    }\n",
              "\n",
              "    .dataframe tbody tr th {\n",
              "        vertical-align: top;\n",
              "    }\n",
              "\n",
              "    .dataframe thead th {\n",
              "        text-align: right;\n",
              "    }\n",
              "</style>\n",
              "<table border=\"1\" class=\"dataframe\">\n",
              "  <thead>\n",
              "    <tr style=\"text-align: right;\">\n",
              "      <th></th>\n",
              "      <th>country</th>\n",
              "      <th>age</th>\n",
              "      <th>new_user</th>\n",
              "      <th>source</th>\n",
              "      <th>total_pages_visited</th>\n",
              "      <th>converted</th>\n",
              "    </tr>\n",
              "  </thead>\n",
              "  <tbody>\n",
              "    <tr>\n",
              "      <th>0</th>\n",
              "      <td>UK</td>\n",
              "      <td>25</td>\n",
              "      <td>1</td>\n",
              "      <td>Ads</td>\n",
              "      <td>1</td>\n",
              "      <td>0</td>\n",
              "    </tr>\n",
              "    <tr>\n",
              "      <th>1</th>\n",
              "      <td>US</td>\n",
              "      <td>23</td>\n",
              "      <td>1</td>\n",
              "      <td>Seo</td>\n",
              "      <td>5</td>\n",
              "      <td>0</td>\n",
              "    </tr>\n",
              "    <tr>\n",
              "      <th>2</th>\n",
              "      <td>US</td>\n",
              "      <td>28</td>\n",
              "      <td>1</td>\n",
              "      <td>Seo</td>\n",
              "      <td>4</td>\n",
              "      <td>0</td>\n",
              "    </tr>\n",
              "    <tr>\n",
              "      <th>3</th>\n",
              "      <td>China</td>\n",
              "      <td>39</td>\n",
              "      <td>1</td>\n",
              "      <td>Seo</td>\n",
              "      <td>5</td>\n",
              "      <td>0</td>\n",
              "    </tr>\n",
              "    <tr>\n",
              "      <th>4</th>\n",
              "      <td>US</td>\n",
              "      <td>30</td>\n",
              "      <td>1</td>\n",
              "      <td>Seo</td>\n",
              "      <td>6</td>\n",
              "      <td>0</td>\n",
              "    </tr>\n",
              "    <tr>\n",
              "      <th>...</th>\n",
              "      <td>...</td>\n",
              "      <td>...</td>\n",
              "      <td>...</td>\n",
              "      <td>...</td>\n",
              "      <td>...</td>\n",
              "      <td>...</td>\n",
              "    </tr>\n",
              "    <tr>\n",
              "      <th>316195</th>\n",
              "      <td>US</td>\n",
              "      <td>26</td>\n",
              "      <td>1</td>\n",
              "      <td>Ads</td>\n",
              "      <td>9</td>\n",
              "      <td>0</td>\n",
              "    </tr>\n",
              "    <tr>\n",
              "      <th>316196</th>\n",
              "      <td>US</td>\n",
              "      <td>27</td>\n",
              "      <td>1</td>\n",
              "      <td>Direct</td>\n",
              "      <td>6</td>\n",
              "      <td>0</td>\n",
              "    </tr>\n",
              "    <tr>\n",
              "      <th>316197</th>\n",
              "      <td>China</td>\n",
              "      <td>25</td>\n",
              "      <td>0</td>\n",
              "      <td>Ads</td>\n",
              "      <td>4</td>\n",
              "      <td>0</td>\n",
              "    </tr>\n",
              "    <tr>\n",
              "      <th>316198</th>\n",
              "      <td>US</td>\n",
              "      <td>22</td>\n",
              "      <td>0</td>\n",
              "      <td>Seo</td>\n",
              "      <td>4</td>\n",
              "      <td>0</td>\n",
              "    </tr>\n",
              "    <tr>\n",
              "      <th>316199</th>\n",
              "      <td>UK</td>\n",
              "      <td>24</td>\n",
              "      <td>0</td>\n",
              "      <td>Ads</td>\n",
              "      <td>4</td>\n",
              "      <td>0</td>\n",
              "    </tr>\n",
              "  </tbody>\n",
              "</table>\n",
              "<p>316200 rows × 6 columns</p>\n",
              "</div>"
            ],
            "text/plain": [
              "       country  age  new_user  source  total_pages_visited  converted\n",
              "0           UK   25         1     Ads                    1          0\n",
              "1           US   23         1     Seo                    5          0\n",
              "2           US   28         1     Seo                    4          0\n",
              "3        China   39         1     Seo                    5          0\n",
              "4           US   30         1     Seo                    6          0\n",
              "...        ...  ...       ...     ...                  ...        ...\n",
              "316195      US   26         1     Ads                    9          0\n",
              "316196      US   27         1  Direct                    6          0\n",
              "316197   China   25         0     Ads                    4          0\n",
              "316198      US   22         0     Seo                    4          0\n",
              "316199      UK   24         0     Ads                    4          0\n",
              "\n",
              "[316200 rows x 6 columns]"
            ]
          },
          "metadata": {
            "tags": []
          },
          "execution_count": 4
        }
      ]
    },
    {
      "cell_type": "code",
      "metadata": {
        "colab": {
          "base_uri": "https://localhost:8080/",
          "height": 284
        },
        "id": "w_KfQWnP76W7",
        "outputId": "90e54ea6-e0f9-4d7b-d6ad-05a92ea6178b"
      },
      "source": [
        "data.describe()"
      ],
      "execution_count": 5,
      "outputs": [
        {
          "output_type": "execute_result",
          "data": {
            "text/html": [
              "<div>\n",
              "<style scoped>\n",
              "    .dataframe tbody tr th:only-of-type {\n",
              "        vertical-align: middle;\n",
              "    }\n",
              "\n",
              "    .dataframe tbody tr th {\n",
              "        vertical-align: top;\n",
              "    }\n",
              "\n",
              "    .dataframe thead th {\n",
              "        text-align: right;\n",
              "    }\n",
              "</style>\n",
              "<table border=\"1\" class=\"dataframe\">\n",
              "  <thead>\n",
              "    <tr style=\"text-align: right;\">\n",
              "      <th></th>\n",
              "      <th>age</th>\n",
              "      <th>new_user</th>\n",
              "      <th>total_pages_visited</th>\n",
              "      <th>converted</th>\n",
              "    </tr>\n",
              "  </thead>\n",
              "  <tbody>\n",
              "    <tr>\n",
              "      <th>count</th>\n",
              "      <td>316200.000000</td>\n",
              "      <td>316200.000000</td>\n",
              "      <td>316200.000000</td>\n",
              "      <td>316200.000000</td>\n",
              "    </tr>\n",
              "    <tr>\n",
              "      <th>mean</th>\n",
              "      <td>30.569858</td>\n",
              "      <td>0.685465</td>\n",
              "      <td>4.872966</td>\n",
              "      <td>0.032258</td>\n",
              "    </tr>\n",
              "    <tr>\n",
              "      <th>std</th>\n",
              "      <td>8.271802</td>\n",
              "      <td>0.464331</td>\n",
              "      <td>3.341104</td>\n",
              "      <td>0.176685</td>\n",
              "    </tr>\n",
              "    <tr>\n",
              "      <th>min</th>\n",
              "      <td>17.000000</td>\n",
              "      <td>0.000000</td>\n",
              "      <td>1.000000</td>\n",
              "      <td>0.000000</td>\n",
              "    </tr>\n",
              "    <tr>\n",
              "      <th>25%</th>\n",
              "      <td>24.000000</td>\n",
              "      <td>0.000000</td>\n",
              "      <td>2.000000</td>\n",
              "      <td>0.000000</td>\n",
              "    </tr>\n",
              "    <tr>\n",
              "      <th>50%</th>\n",
              "      <td>30.000000</td>\n",
              "      <td>1.000000</td>\n",
              "      <td>4.000000</td>\n",
              "      <td>0.000000</td>\n",
              "    </tr>\n",
              "    <tr>\n",
              "      <th>75%</th>\n",
              "      <td>36.000000</td>\n",
              "      <td>1.000000</td>\n",
              "      <td>7.000000</td>\n",
              "      <td>0.000000</td>\n",
              "    </tr>\n",
              "    <tr>\n",
              "      <th>max</th>\n",
              "      <td>123.000000</td>\n",
              "      <td>1.000000</td>\n",
              "      <td>29.000000</td>\n",
              "      <td>1.000000</td>\n",
              "    </tr>\n",
              "  </tbody>\n",
              "</table>\n",
              "</div>"
            ],
            "text/plain": [
              "                 age       new_user  total_pages_visited      converted\n",
              "count  316200.000000  316200.000000        316200.000000  316200.000000\n",
              "mean       30.569858       0.685465             4.872966       0.032258\n",
              "std         8.271802       0.464331             3.341104       0.176685\n",
              "min        17.000000       0.000000             1.000000       0.000000\n",
              "25%        24.000000       0.000000             2.000000       0.000000\n",
              "50%        30.000000       1.000000             4.000000       0.000000\n",
              "75%        36.000000       1.000000             7.000000       0.000000\n",
              "max       123.000000       1.000000            29.000000       1.000000"
            ]
          },
          "metadata": {
            "tags": []
          },
          "execution_count": 5
        }
      ]
    },
    {
      "cell_type": "code",
      "metadata": {
        "colab": {
          "base_uri": "https://localhost:8080/"
        },
        "id": "YtDb1jqi8YJl",
        "outputId": "c8c66573-d738-4e7a-f387-d5a265e2d244"
      },
      "source": [
        "data.nunique()"
      ],
      "execution_count": 6,
      "outputs": [
        {
          "output_type": "execute_result",
          "data": {
            "text/plain": [
              "country                 4\n",
              "age                    60\n",
              "new_user                2\n",
              "source                  3\n",
              "total_pages_visited    29\n",
              "converted               2\n",
              "dtype: int64"
            ]
          },
          "metadata": {
            "tags": []
          },
          "execution_count": 6
        }
      ]
    },
    {
      "cell_type": "code",
      "metadata": {
        "colab": {
          "base_uri": "https://localhost:8080/"
        },
        "id": "Zxr6VX6Z8peo",
        "outputId": "a0a191c9-2d77-4eed-8a80-1fdbff25ae4f"
      },
      "source": [
        "uniques = [data[col].unique() for col in data.columns if data.dtypes[col]=='object']\r\n",
        "uniques"
      ],
      "execution_count": 9,
      "outputs": [
        {
          "output_type": "execute_result",
          "data": {
            "text/plain": [
              "[array(['UK', 'US', 'China', 'Germany'], dtype=object),\n",
              " array(['Ads', 'Seo', 'Direct'], dtype=object)]"
            ]
          },
          "metadata": {
            "tags": []
          },
          "execution_count": 9
        }
      ]
    },
    {
      "cell_type": "code",
      "metadata": {
        "colab": {
          "base_uri": "https://localhost:8080/"
        },
        "id": "4Oflo3ov9V9W",
        "outputId": "17a9affb-11a3-4f72-90eb-ae4d922ff964"
      },
      "source": [
        "data.isnull().any()"
      ],
      "execution_count": 11,
      "outputs": [
        {
          "output_type": "execute_result",
          "data": {
            "text/plain": [
              "country                False\n",
              "age                    False\n",
              "new_user               False\n",
              "source                 False\n",
              "total_pages_visited    False\n",
              "converted              False\n",
              "dtype: bool"
            ]
          },
          "metadata": {
            "tags": []
          },
          "execution_count": 11
        }
      ]
    },
    {
      "cell_type": "code",
      "metadata": {
        "id": "nKszq2iu9zUL"
      },
      "source": [
        "data = data[data['age'] < 90].reset_index(drop=True)"
      ],
      "execution_count": 16,
      "outputs": []
    },
    {
      "cell_type": "code",
      "metadata": {
        "colab": {
          "base_uri": "https://localhost:8080/",
          "height": 422
        },
        "id": "RzJkRkCu-M6-",
        "outputId": "94e04a32-86b4-4c41-865e-9766b74ea41a"
      },
      "source": [
        "pd.get_dummies(data, columns=['country', 'source'])"
      ],
      "execution_count": 18,
      "outputs": [
        {
          "output_type": "execute_result",
          "data": {
            "text/html": [
              "<div>\n",
              "<style scoped>\n",
              "    .dataframe tbody tr th:only-of-type {\n",
              "        vertical-align: middle;\n",
              "    }\n",
              "\n",
              "    .dataframe tbody tr th {\n",
              "        vertical-align: top;\n",
              "    }\n",
              "\n",
              "    .dataframe thead th {\n",
              "        text-align: right;\n",
              "    }\n",
              "</style>\n",
              "<table border=\"1\" class=\"dataframe\">\n",
              "  <thead>\n",
              "    <tr style=\"text-align: right;\">\n",
              "      <th></th>\n",
              "      <th>age</th>\n",
              "      <th>new_user</th>\n",
              "      <th>total_pages_visited</th>\n",
              "      <th>converted</th>\n",
              "      <th>country_China</th>\n",
              "      <th>country_Germany</th>\n",
              "      <th>country_UK</th>\n",
              "      <th>country_US</th>\n",
              "      <th>source_Ads</th>\n",
              "      <th>source_Direct</th>\n",
              "      <th>source_Seo</th>\n",
              "    </tr>\n",
              "  </thead>\n",
              "  <tbody>\n",
              "    <tr>\n",
              "      <th>0</th>\n",
              "      <td>25</td>\n",
              "      <td>1</td>\n",
              "      <td>1</td>\n",
              "      <td>0</td>\n",
              "      <td>0</td>\n",
              "      <td>0</td>\n",
              "      <td>1</td>\n",
              "      <td>0</td>\n",
              "      <td>1</td>\n",
              "      <td>0</td>\n",
              "      <td>0</td>\n",
              "    </tr>\n",
              "    <tr>\n",
              "      <th>1</th>\n",
              "      <td>23</td>\n",
              "      <td>1</td>\n",
              "      <td>5</td>\n",
              "      <td>0</td>\n",
              "      <td>0</td>\n",
              "      <td>0</td>\n",
              "      <td>0</td>\n",
              "      <td>1</td>\n",
              "      <td>0</td>\n",
              "      <td>0</td>\n",
              "      <td>1</td>\n",
              "    </tr>\n",
              "    <tr>\n",
              "      <th>2</th>\n",
              "      <td>28</td>\n",
              "      <td>1</td>\n",
              "      <td>4</td>\n",
              "      <td>0</td>\n",
              "      <td>0</td>\n",
              "      <td>0</td>\n",
              "      <td>0</td>\n",
              "      <td>1</td>\n",
              "      <td>0</td>\n",
              "      <td>0</td>\n",
              "      <td>1</td>\n",
              "    </tr>\n",
              "    <tr>\n",
              "      <th>3</th>\n",
              "      <td>39</td>\n",
              "      <td>1</td>\n",
              "      <td>5</td>\n",
              "      <td>0</td>\n",
              "      <td>1</td>\n",
              "      <td>0</td>\n",
              "      <td>0</td>\n",
              "      <td>0</td>\n",
              "      <td>0</td>\n",
              "      <td>0</td>\n",
              "      <td>1</td>\n",
              "    </tr>\n",
              "    <tr>\n",
              "      <th>4</th>\n",
              "      <td>30</td>\n",
              "      <td>1</td>\n",
              "      <td>6</td>\n",
              "      <td>0</td>\n",
              "      <td>0</td>\n",
              "      <td>0</td>\n",
              "      <td>0</td>\n",
              "      <td>1</td>\n",
              "      <td>0</td>\n",
              "      <td>0</td>\n",
              "      <td>1</td>\n",
              "    </tr>\n",
              "    <tr>\n",
              "      <th>...</th>\n",
              "      <td>...</td>\n",
              "      <td>...</td>\n",
              "      <td>...</td>\n",
              "      <td>...</td>\n",
              "      <td>...</td>\n",
              "      <td>...</td>\n",
              "      <td>...</td>\n",
              "      <td>...</td>\n",
              "      <td>...</td>\n",
              "      <td>...</td>\n",
              "      <td>...</td>\n",
              "    </tr>\n",
              "    <tr>\n",
              "      <th>316193</th>\n",
              "      <td>26</td>\n",
              "      <td>1</td>\n",
              "      <td>9</td>\n",
              "      <td>0</td>\n",
              "      <td>0</td>\n",
              "      <td>0</td>\n",
              "      <td>0</td>\n",
              "      <td>1</td>\n",
              "      <td>1</td>\n",
              "      <td>0</td>\n",
              "      <td>0</td>\n",
              "    </tr>\n",
              "    <tr>\n",
              "      <th>316194</th>\n",
              "      <td>27</td>\n",
              "      <td>1</td>\n",
              "      <td>6</td>\n",
              "      <td>0</td>\n",
              "      <td>0</td>\n",
              "      <td>0</td>\n",
              "      <td>0</td>\n",
              "      <td>1</td>\n",
              "      <td>0</td>\n",
              "      <td>1</td>\n",
              "      <td>0</td>\n",
              "    </tr>\n",
              "    <tr>\n",
              "      <th>316195</th>\n",
              "      <td>25</td>\n",
              "      <td>0</td>\n",
              "      <td>4</td>\n",
              "      <td>0</td>\n",
              "      <td>1</td>\n",
              "      <td>0</td>\n",
              "      <td>0</td>\n",
              "      <td>0</td>\n",
              "      <td>1</td>\n",
              "      <td>0</td>\n",
              "      <td>0</td>\n",
              "    </tr>\n",
              "    <tr>\n",
              "      <th>316196</th>\n",
              "      <td>22</td>\n",
              "      <td>0</td>\n",
              "      <td>4</td>\n",
              "      <td>0</td>\n",
              "      <td>0</td>\n",
              "      <td>0</td>\n",
              "      <td>0</td>\n",
              "      <td>1</td>\n",
              "      <td>0</td>\n",
              "      <td>0</td>\n",
              "      <td>1</td>\n",
              "    </tr>\n",
              "    <tr>\n",
              "      <th>316197</th>\n",
              "      <td>24</td>\n",
              "      <td>0</td>\n",
              "      <td>4</td>\n",
              "      <td>0</td>\n",
              "      <td>0</td>\n",
              "      <td>0</td>\n",
              "      <td>1</td>\n",
              "      <td>0</td>\n",
              "      <td>1</td>\n",
              "      <td>0</td>\n",
              "      <td>0</td>\n",
              "    </tr>\n",
              "  </tbody>\n",
              "</table>\n",
              "<p>316198 rows × 11 columns</p>\n",
              "</div>"
            ],
            "text/plain": [
              "        age  new_user  ...  source_Direct  source_Seo\n",
              "0        25         1  ...              0           0\n",
              "1        23         1  ...              0           1\n",
              "2        28         1  ...              0           1\n",
              "3        39         1  ...              0           1\n",
              "4        30         1  ...              0           1\n",
              "...     ...       ...  ...            ...         ...\n",
              "316193   26         1  ...              0           0\n",
              "316194   27         1  ...              1           0\n",
              "316195   25         0  ...              0           0\n",
              "316196   22         0  ...              0           1\n",
              "316197   24         0  ...              0           0\n",
              "\n",
              "[316198 rows x 11 columns]"
            ]
          },
          "metadata": {
            "tags": []
          },
          "execution_count": 18
        }
      ]
    },
    {
      "cell_type": "code",
      "metadata": {
        "colab": {
          "base_uri": "https://localhost:8080/",
          "height": 279
        },
        "id": "ec8fV6kPFgzs",
        "outputId": "fd5acbec-81f6-4bbb-8755-ef6f3debec83"
      },
      "source": [
        "# country_group = data.groupby(['country'])['converted'].mean().reset_index()\r\n",
        "# sns.countplot(x='country', hue='converted', data=data)\r\n",
        "sns.barplot(x='country', y='converted', data=data)\r\n",
        "plt.show()"
      ],
      "execution_count": 27,
      "outputs": [
        {
          "output_type": "display_data",
          "data": {
            "image/png": "[encoded data removed]",
            "text/plain": [
              "<Figure size 432x288 with 1 Axes>"
            ]
          },
          "metadata": {
            "tags": [],
            "needs_background": "light"
          }
        }
      ]
    },
    {
      "cell_type": "code",
      "metadata": {
        "colab": {
          "base_uri": "https://localhost:8080/",
          "height": 279
        },
        "id": "G_LWI5QBH5hq",
        "outputId": "c6ca2f26-d0dd-43fb-f5f5-4fd40d797f91"
      },
      "source": [
        "sns.barplot(x='source', y='converted', data=data)\r\n",
        "plt.show()"
      ],
      "execution_count": 28,
      "outputs": [
        {
          "output_type": "display_data",
          "data": {
            "image/png": "[encoded data removed]",
            "text/plain": [
              "<Figure size 432x288 with 1 Axes>"
            ]
          },
          "metadata": {
            "tags": [],
            "needs_background": "light"
          }
        }
      ]
    },
    {
      "cell_type": "code",
      "metadata": {
        "colab": {
          "base_uri": "https://localhost:8080/",
          "height": 279
        },
        "id": "MqIjlwiKIHoj",
        "outputId": "a3427d22-7aa0-4667-c3ac-c096c3b534a4"
      },
      "source": [
        "sns.barplot(x='new_user', y='converted', data=data)\r\n",
        "plt.show()"
      ],
      "execution_count": 29,
      "outputs": [
        {
          "output_type": "display_data",
          "data": {
            "image/png": "[encoded data removed]",
            "text/plain": [
              "<Figure size 432x288 with 1 Axes>"
            ]
          },
          "metadata": {
            "tags": [],
            "needs_background": "light"
          }
        }
      ]
    },
    {
      "cell_type": "code",
      "metadata": {
        "colab": {
          "base_uri": "https://localhost:8080/",
          "height": 279
        },
        "id": "WGIsmrTAINTE",
        "outputId": "63d17971-5419-4094-d47e-b6de3cc5f86f"
      },
      "source": [
        "sns.distplot(data[data['converted'] == 0]['age'], label='Not converted')\r\n",
        "sns.distplot(data[data['converted'] == 1]['age'], label='Converted')\r\n",
        "plt.legend()\r\n",
        "plt.show()"
      ],
      "execution_count": 33,
      "outputs": [
        {
          "output_type": "display_data",
          "data": {
            "image/png": "[encoded data removed]",
            "text/plain": [
              "<Figure size 432x288 with 1 Axes>"
            ]
          },
          "metadata": {
            "tags": [],
            "needs_background": "light"
          }
        }
      ]
    },
    {
      "cell_type": "code",
      "metadata": {
        "colab": {
          "base_uri": "https://localhost:8080/",
          "height": 296
        },
        "id": "DrbAiPFeOcoo",
        "outputId": "61fc690c-e1e5-4445-8c7e-3385156267d1"
      },
      "source": [
        "age_group = data.groupby('age')['converted'].mean().reset_index()\r\n",
        "sns.lineplot(age_group['age'], age_group['converted'])"
      ],
      "execution_count": 36,
      "outputs": [
        {
          "output_type": "execute_result",
          "data": {
            "text/plain": [
              "<matplotlib.axes._subplots.AxesSubplot at 0x7fe71e9cbe48>"
            ]
          },
          "metadata": {
            "tags": []
          },
          "execution_count": 36
        },
        {
          "output_type": "display_data",
          "data": {
            "image/png": "[encoded data removed]",
            "text/plain": [
              "<Figure size 432x288 with 1 Axes>"
            ]
          },
          "metadata": {
            "tags": [],
            "needs_background": "light"
          }
        }
      ]
    },
    {
      "cell_type": "markdown",
      "metadata": {
        "id": "BLMZqABQQQg6"
      },
      "source": [
        "# Modeling (h2o)"
      ]
    },
    {
      "cell_type": "code",
      "metadata": {
        "colab": {
          "base_uri": "https://localhost:8080/",
          "height": 526
        },
        "id": "JCDA-uDyPAOc",
        "outputId": "570c3748-d73c-43a1-fb54-8107be01982a"
      },
      "source": [
        "h2o.init()"
      ],
      "execution_count": 37,
      "outputs": [
        {
          "output_type": "stream",
          "text": [
            "Checking whether there is an H2O instance running at http://localhost:54321 ..... not found.\n",
            "Attempting to start a local H2O server...\n",
            "  Java Version: openjdk version \"11.0.9.1\" 2020-11-04; OpenJDK Runtime Environment (build 11.0.9.1+1-Ubuntu-0ubuntu1.18.04); OpenJDK 64-Bit Server VM (build 11.0.9.1+1-Ubuntu-0ubuntu1.18.04, mixed mode, sharing)\n",
            "  Starting server from /usr/local/lib/python3.6/dist-packages/h2o/backend/bin/h2o.jar\n",
            "  Ice root: /tmp/tmp_065f5kn\n",
            "  JVM stdout: /tmp/tmp_065f5kn/h2o_unknownUser_started_from_python.out\n",
            "  JVM stderr: /tmp/tmp_065f5kn/h2o_unknownUser_started_from_python.err\n",
            "  Server is running at http://127.0.0.1:54321\n",
            "Connecting to H2O server at http://127.0.0.1:54321 ... successful.\n"
          ],
          "name": "stdout"
        },
        {
          "output_type": "display_data",
          "data": {
            "text/html": [
              "<div style=\"overflow:auto\"><table style=\"width:50%\"><tr><td>H2O_cluster_uptime:</td>\n",
              "<td>03 secs</td></tr>\n",
              "<tr><td>H2O_cluster_timezone:</td>\n",
              "<td>Etc/UTC</td></tr>\n",
              "<tr><td>H2O_data_parsing_timezone:</td>\n",
              "<td>UTC</td></tr>\n",
              "<tr><td>H2O_cluster_version:</td>\n",
              "<td>3.32.0.3</td></tr>\n",
              "<tr><td>H2O_cluster_version_age:</td>\n",
              "<td>17 days </td></tr>\n",
              "<tr><td>H2O_cluster_name:</td>\n",
              "<td>H2O_from_python_unknownUser_dcaogb</td></tr>\n",
              "<tr><td>H2O_cluster_total_nodes:</td>\n",
              "<td>1</td></tr>\n",
              "<tr><td>H2O_cluster_free_memory:</td>\n",
              "<td>3.180 Gb</td></tr>\n",
              "<tr><td>H2O_cluster_total_cores:</td>\n",
              "<td>2</td></tr>\n",
              "<tr><td>H2O_cluster_allowed_cores:</td>\n",
              "<td>2</td></tr>\n",
              "<tr><td>H2O_cluster_status:</td>\n",
              "<td>accepting new members, healthy</td></tr>\n",
              "<tr><td>H2O_connection_url:</td>\n",
              "<td>http://127.0.0.1:54321</td></tr>\n",
              "<tr><td>H2O_connection_proxy:</td>\n",
              "<td>{\"http\": null, \"https\": null}</td></tr>\n",
              "<tr><td>H2O_internal_security:</td>\n",
              "<td>False</td></tr>\n",
              "<tr><td>H2O_API_Extensions:</td>\n",
              "<td>Amazon S3, XGBoost, Algos, AutoML, Core V3, TargetEncoder, Core V4</td></tr>\n",
              "<tr><td>Python_version:</td>\n",
              "<td>3.6.9 final</td></tr></table></div>"
            ],
            "text/plain": [
              "--------------------------  ------------------------------------------------------------------\n",
              "H2O_cluster_uptime:         03 secs\n",
              "H2O_cluster_timezone:       Etc/UTC\n",
              "H2O_data_parsing_timezone:  UTC\n",
              "H2O_cluster_version:        3.32.0.3\n",
              "H2O_cluster_version_age:    17 days\n",
              "H2O_cluster_name:           H2O_from_python_unknownUser_dcaogb\n",
              "H2O_cluster_total_nodes:    1\n",
              "H2O_cluster_free_memory:    3.180 Gb\n",
              "H2O_cluster_total_cores:    2\n",
              "H2O_cluster_allowed_cores:  2\n",
              "H2O_cluster_status:         accepting new members, healthy\n",
              "H2O_connection_url:         http://127.0.0.1:54321\n",
              "H2O_connection_proxy:       {\"http\": null, \"https\": null}\n",
              "H2O_internal_security:      False\n",
              "H2O_API_Extensions:         Amazon S3, XGBoost, Algos, AutoML, Core V3, TargetEncoder, Core V4\n",
              "Python_version:             3.6.9 final\n",
              "--------------------------  ------------------------------------------------------------------"
            ]
          },
          "metadata": {
            "tags": []
          }
        }
      ]
    },
    {
      "cell_type": "code",
      "metadata": {
        "colab": {
          "base_uri": "https://localhost:8080/",
          "height": 255
        },
        "id": "v6YppsXIQT9y",
        "outputId": "9c0e8048-68b9-4139-8a69-b8bbf7199893"
      },
      "source": [
        "h2o_df = H2OFrame(data)\r\n",
        "h2o_df"
      ],
      "execution_count": 39,
      "outputs": [
        {
          "output_type": "stream",
          "text": [
            "Parse progress: |█████████████████████████████████████████████████████████| 100%\n"
          ],
          "name": "stdout"
        },
        {
          "output_type": "display_data",
          "data": {
            "text/html": [
              "<table>\n",
              "<thead>\n",
              "<tr><th>country  </th><th style=\"text-align: right;\">  age</th><th style=\"text-align: right;\">  new_user</th><th>source  </th><th style=\"text-align: right;\">  total_pages_visited</th><th style=\"text-align: right;\">  converted</th></tr>\n",
              "</thead>\n",
              "<tbody>\n",
              "<tr><td>UK       </td><td style=\"text-align: right;\">   25</td><td style=\"text-align: right;\">         1</td><td>Ads     </td><td style=\"text-align: right;\">                    1</td><td style=\"text-align: right;\">          0</td></tr>\n",
              "<tr><td>US       </td><td style=\"text-align: right;\">   23</td><td style=\"text-align: right;\">         1</td><td>Seo     </td><td style=\"text-align: right;\">                    5</td><td style=\"text-align: right;\">          0</td></tr>\n",
              "<tr><td>US       </td><td style=\"text-align: right;\">   28</td><td style=\"text-align: right;\">         1</td><td>Seo     </td><td style=\"text-align: right;\">                    4</td><td style=\"text-align: right;\">          0</td></tr>\n",
              "<tr><td>China    </td><td style=\"text-align: right;\">   39</td><td style=\"text-align: right;\">         1</td><td>Seo     </td><td style=\"text-align: right;\">                    5</td><td style=\"text-align: right;\">          0</td></tr>\n",
              "<tr><td>US       </td><td style=\"text-align: right;\">   30</td><td style=\"text-align: right;\">         1</td><td>Seo     </td><td style=\"text-align: right;\">                    6</td><td style=\"text-align: right;\">          0</td></tr>\n",
              "<tr><td>US       </td><td style=\"text-align: right;\">   31</td><td style=\"text-align: right;\">         0</td><td>Seo     </td><td style=\"text-align: right;\">                    1</td><td style=\"text-align: right;\">          0</td></tr>\n",
              "<tr><td>China    </td><td style=\"text-align: right;\">   27</td><td style=\"text-align: right;\">         1</td><td>Seo     </td><td style=\"text-align: right;\">                    4</td><td style=\"text-align: right;\">          0</td></tr>\n",
              "<tr><td>US       </td><td style=\"text-align: right;\">   23</td><td style=\"text-align: right;\">         0</td><td>Ads     </td><td style=\"text-align: right;\">                    4</td><td style=\"text-align: right;\">          0</td></tr>\n",
              "<tr><td>UK       </td><td style=\"text-align: right;\">   29</td><td style=\"text-align: right;\">         0</td><td>Direct  </td><td style=\"text-align: right;\">                    4</td><td style=\"text-align: right;\">          0</td></tr>\n",
              "<tr><td>US       </td><td style=\"text-align: right;\">   25</td><td style=\"text-align: right;\">         0</td><td>Ads     </td><td style=\"text-align: right;\">                    2</td><td style=\"text-align: right;\">          0</td></tr>\n",
              "</tbody>\n",
              "</table>"
            ]
          },
          "metadata": {
            "tags": []
          }
        },
        {
          "output_type": "execute_result",
          "data": {
            "text/plain": [
              ""
            ]
          },
          "metadata": {
            "tags": []
          },
          "execution_count": 39
        }
      ]
    },
    {
      "cell_type": "code",
      "metadata": {
        "id": "D_6pAHPqQeG7"
      },
      "source": [
        "h2o_df['new_user'] = h2o_df['new_user'].asfactor()\r\n",
        "h2o_df['converted'] = h2o_df['converted'].asfactor()"
      ],
      "execution_count": 40,
      "outputs": []
    },
    {
      "cell_type": "code",
      "metadata": {
        "colab": {
          "base_uri": "https://localhost:8080/",
          "height": 378
        },
        "id": "VKexZ8AfQiJb",
        "outputId": "cc3a5ea0-8347-4650-c9f7-44b0e2a16caa"
      },
      "source": [
        "h2o_df.summary()"
      ],
      "execution_count": 41,
      "outputs": [
        {
          "output_type": "display_data",
          "data": {
            "text/html": [
              "<table>\n",
              "<thead>\n",
              "<tr><th>       </th><th>country  </th><th>age              </th><th>new_user  </th><th>source  </th><th>total_pages_visited  </th><th>converted  </th></tr>\n",
              "</thead>\n",
              "<tbody>\n",
              "<tr><td>type   </td><td>enum     </td><td>int              </td><td>enum      </td><td>enum    </td><td>int                  </td><td>enum       </td></tr>\n",
              "<tr><td>mins   </td><td>         </td><td>17.0             </td><td>          </td><td>        </td><td>1.0                  </td><td>           </td></tr>\n",
              "<tr><td>mean   </td><td>         </td><td>30.56931100133461</td><td>          </td><td>        </td><td>4.872918234777001    </td><td>           </td></tr>\n",
              "<tr><td>maxs   </td><td>         </td><td>79.0             </td><td>          </td><td>        </td><td>29.0                 </td><td>           </td></tr>\n",
              "<tr><td>sigma  </td><td>         </td><td>8.268957596421435</td><td>          </td><td>        </td><td>3.3410533442156285   </td><td>           </td></tr>\n",
              "<tr><td>zeros  </td><td>         </td><td>0                </td><td>          </td><td>        </td><td>0                    </td><td>           </td></tr>\n",
              "<tr><td>missing</td><td>0        </td><td>0                </td><td>0         </td><td>0       </td><td>0                    </td><td>0          </td></tr>\n",
              "<tr><td>0      </td><td>UK       </td><td>25.0             </td><td>1         </td><td>Ads     </td><td>1.0                  </td><td>0          </td></tr>\n",
              "<tr><td>1      </td><td>US       </td><td>23.0             </td><td>1         </td><td>Seo     </td><td>5.0                  </td><td>0          </td></tr>\n",
              "<tr><td>2      </td><td>US       </td><td>28.0             </td><td>1         </td><td>Seo     </td><td>4.0                  </td><td>0          </td></tr>\n",
              "<tr><td>3      </td><td>China    </td><td>39.0             </td><td>1         </td><td>Seo     </td><td>5.0                  </td><td>0          </td></tr>\n",
              "<tr><td>4      </td><td>US       </td><td>30.0             </td><td>1         </td><td>Seo     </td><td>6.0                  </td><td>0          </td></tr>\n",
              "<tr><td>5      </td><td>US       </td><td>31.0             </td><td>0         </td><td>Seo     </td><td>1.0                  </td><td>0          </td></tr>\n",
              "<tr><td>6      </td><td>China    </td><td>27.0             </td><td>1         </td><td>Seo     </td><td>4.0                  </td><td>0          </td></tr>\n",
              "<tr><td>7      </td><td>US       </td><td>23.0             </td><td>0         </td><td>Ads     </td><td>4.0                  </td><td>0          </td></tr>\n",
              "<tr><td>8      </td><td>UK       </td><td>29.0             </td><td>0         </td><td>Direct  </td><td>4.0                  </td><td>0          </td></tr>\n",
              "<tr><td>9      </td><td>US       </td><td>25.0             </td><td>0         </td><td>Ads     </td><td>2.0                  </td><td>0          </td></tr>\n",
              "</tbody>\n",
              "</table>"
            ]
          },
          "metadata": {
            "tags": []
          }
        }
      ]
    },
    {
      "cell_type": "code",
      "metadata": {
        "id": "TxNX7qH_QsoX"
      },
      "source": [
        "strat_split = h2o_df['converted'].stratified_split(test_frac=0.25, seed=42)\r\n",
        "\r\n",
        "train = h2o_df[strat_split == 'train']\r\n",
        "test = h2o_df[strat_split == 'test']"
      ],
      "execution_count": 42,
      "outputs": []
    },
    {
      "cell_type": "code",
      "metadata": {
        "id": "ginv-4CNQwfV"
      },
      "source": [
        "feature = ['country', 'age', 'new_user', 'source', 'total_pages_visited']\r\n",
        "target = 'converted'"
      ],
      "execution_count": 43,
      "outputs": []
    },
    {
      "cell_type": "code",
      "metadata": {
        "colab": {
          "base_uri": "https://localhost:8080/"
        },
        "id": "aLpBZHp2QxS1",
        "outputId": "5093cc14-73e2-4c3d-d0b9-25ae63688186"
      },
      "source": [
        "model = H2ORandomForestEstimator(balance_classes=True, ntrees=100, max_depth=20, \r\n",
        "                                 mtries=-1, seed=42, score_each_iteration=True)\r\n",
        "model.train(x=feature, y=target, training_frame=train)"
      ],
      "execution_count": 44,
      "outputs": [
        {
          "output_type": "stream",
          "text": [
            "drf Model Build progress: |███████████████████████████████████████████████| 100%\n"
          ],
          "name": "stdout"
        }
      ]
    },
    {
      "cell_type": "code",
      "metadata": {
        "colab": {
          "base_uri": "https://localhost:8080/",
          "height": 280
        },
        "id": "8ufXSsQxQ4Z2",
        "outputId": "fd450c53-bebb-46d8-fedc-d86356227294"
      },
      "source": [
        "# model.varimp_plot()\r\n",
        "importance = model.varimp(use_pandas=True)\r\n",
        "sns.barplot(x='scaled_importance', y='variable', data=importance)\r\n",
        "plt.show()"
      ],
      "execution_count": 46,
      "outputs": [
        {
          "output_type": "display_data",
          "data": {
            "image/png": "[encoded data removed]",
            "text/plain": [
              "<Figure size 432x288 with 1 Axes>"
            ]
          },
          "metadata": {
            "tags": [],
            "needs_background": "light"
          }
        }
      ]
    },
    {
      "cell_type": "code",
      "metadata": {
        "colab": {
          "base_uri": "https://localhost:8080/",
          "height": 418
        },
        "id": "03jlD6ojYTd8",
        "outputId": "8902d86c-a3d4-495f-f765-a758f2c9948b"
      },
      "source": [
        "model.predict(train).as_data_frame() # raw prediction"
      ],
      "execution_count": 57,
      "outputs": [
        {
          "output_type": "stream",
          "text": [
            "drf prediction progress: |████████████████████████████████████████████████| 100%\n"
          ],
          "name": "stdout"
        },
        {
          "output_type": "execute_result",
          "data": {
            "text/html": [
              "<div>\n",
              "<style scoped>\n",
              "    .dataframe tbody tr th:only-of-type {\n",
              "        vertical-align: middle;\n",
              "    }\n",
              "\n",
              "    .dataframe tbody tr th {\n",
              "        vertical-align: top;\n",
              "    }\n",
              "\n",
              "    .dataframe thead th {\n",
              "        text-align: right;\n",
              "    }\n",
              "</style>\n",
              "<table border=\"1\" class=\"dataframe\">\n",
              "  <thead>\n",
              "    <tr style=\"text-align: right;\">\n",
              "      <th></th>\n",
              "      <th>predict</th>\n",
              "      <th>p0</th>\n",
              "      <th>p1</th>\n",
              "    </tr>\n",
              "  </thead>\n",
              "  <tbody>\n",
              "    <tr>\n",
              "      <th>0</th>\n",
              "      <td>0</td>\n",
              "      <td>0.999776</td>\n",
              "      <td>0.000224</td>\n",
              "    </tr>\n",
              "    <tr>\n",
              "      <th>1</th>\n",
              "      <td>0</td>\n",
              "      <td>0.999514</td>\n",
              "      <td>0.000486</td>\n",
              "    </tr>\n",
              "    <tr>\n",
              "      <th>2</th>\n",
              "      <td>0</td>\n",
              "      <td>0.999784</td>\n",
              "      <td>0.000216</td>\n",
              "    </tr>\n",
              "    <tr>\n",
              "      <th>3</th>\n",
              "      <td>0</td>\n",
              "      <td>0.999949</td>\n",
              "      <td>0.000051</td>\n",
              "    </tr>\n",
              "    <tr>\n",
              "      <th>4</th>\n",
              "      <td>0</td>\n",
              "      <td>0.999463</td>\n",
              "      <td>0.000537</td>\n",
              "    </tr>\n",
              "    <tr>\n",
              "      <th>...</th>\n",
              "      <td>...</td>\n",
              "      <td>...</td>\n",
              "      <td>...</td>\n",
              "    </tr>\n",
              "    <tr>\n",
              "      <th>237143</th>\n",
              "      <td>0</td>\n",
              "      <td>0.999947</td>\n",
              "      <td>0.000053</td>\n",
              "    </tr>\n",
              "    <tr>\n",
              "      <th>237144</th>\n",
              "      <td>1</td>\n",
              "      <td>0.870606</td>\n",
              "      <td>0.129394</td>\n",
              "    </tr>\n",
              "    <tr>\n",
              "      <th>237145</th>\n",
              "      <td>0</td>\n",
              "      <td>0.997839</td>\n",
              "      <td>0.002161</td>\n",
              "    </tr>\n",
              "    <tr>\n",
              "      <th>237146</th>\n",
              "      <td>0</td>\n",
              "      <td>0.999791</td>\n",
              "      <td>0.000209</td>\n",
              "    </tr>\n",
              "    <tr>\n",
              "      <th>237147</th>\n",
              "      <td>0</td>\n",
              "      <td>0.999093</td>\n",
              "      <td>0.000907</td>\n",
              "    </tr>\n",
              "  </tbody>\n",
              "</table>\n",
              "<p>237148 rows × 3 columns</p>\n",
              "</div>"
            ],
            "text/plain": [
              "        predict        p0        p1\n",
              "0             0  0.999776  0.000224\n",
              "1             0  0.999514  0.000486\n",
              "2             0  0.999784  0.000216\n",
              "3             0  0.999949  0.000051\n",
              "4             0  0.999463  0.000537\n",
              "...         ...       ...       ...\n",
              "237143        0  0.999947  0.000053\n",
              "237144        1  0.870606  0.129394\n",
              "237145        0  0.997839  0.002161\n",
              "237146        0  0.999791  0.000209\n",
              "237147        0  0.999093  0.000907\n",
              "\n",
              "[237148 rows x 3 columns]"
            ]
          },
          "metadata": {
            "tags": []
          },
          "execution_count": 57
        }
      ]
    },
    {
      "cell_type": "code",
      "metadata": {
        "colab": {
          "base_uri": "https://localhost:8080/"
        },
        "id": "G5dejj5pR7zq",
        "outputId": "25d3ab55-4b71-44fe-fb49-3634cb2aa0d7"
      },
      "source": [
        "train_true = train.as_data_frame()['converted'].values\r\n",
        "test_true = test.as_data_frame()['converted'].values\r\n",
        "train_pred_p1 = model.predict(train).as_data_frame()['p1'].values\r\n",
        "test_pred_p1 = model.predict(test).as_data_frame()['p1'].values"
      ],
      "execution_count": 47,
      "outputs": [
        {
          "output_type": "stream",
          "text": [
            "drf prediction progress: |████████████████████████████████████████████████| 100%\n",
            "drf prediction progress: |████████████████████████████████████████████████| 100%\n"
          ],
          "name": "stdout"
        }
      ]
    },
    {
      "cell_type": "code",
      "metadata": {
        "id": "pOWInCFfSOT7"
      },
      "source": [
        "train_fpr, train_tpr, _ = roc_curve(train_true, train_pred_p1)\r\n",
        "test_fpr, test_tpr, _ = roc_curve(test_true, test_pred_p1)\r\n",
        "train_auc = np.round(auc(train_fpr, train_tpr), 3)\r\n",
        "test_auc = np.round(auc(test_fpr, test_tpr), 3)"
      ],
      "execution_count": 49,
      "outputs": []
    },
    {
      "cell_type": "code",
      "metadata": {
        "colab": {
          "base_uri": "https://localhost:8080/"
        },
        "id": "EjCeR_RyThf3",
        "outputId": "fca4f6a1-938e-44c2-ba7b-04854843ff75"
      },
      "source": [
        "print(train_auc, test_auc)"
      ],
      "execution_count": 51,
      "outputs": [
        {
          "output_type": "stream",
          "text": [
            "0.994 0.978\n"
          ],
          "name": "stdout"
        }
      ]
    },
    {
      "cell_type": "code",
      "metadata": {
        "colab": {
          "base_uri": "https://localhost:8080/"
        },
        "id": "SP5n_TpSTlJQ",
        "outputId": "2a39567b-ad30-4157-ec3d-be8b680c692d"
      },
      "source": [
        "print(classification_report(y_true=test_true, y_pred=(test_pred_p1 > 0.5).astype(int)))"
      ],
      "execution_count": 52,
      "outputs": [
        {
          "output_type": "stream",
          "text": [
            "              precision    recall  f1-score   support\n",
            "\n",
            "           0       0.99      1.00      0.99     76500\n",
            "           1       0.84      0.64      0.72      2550\n",
            "\n",
            "    accuracy                           0.98     79050\n",
            "   macro avg       0.91      0.82      0.86     79050\n",
            "weighted avg       0.98      0.98      0.98     79050\n",
            "\n"
          ],
          "name": "stdout"
        }
      ]
    },
    {
      "cell_type": "code",
      "metadata": {
        "colab": {
          "base_uri": "https://localhost:8080/",
          "height": 265
        },
        "id": "b82Htj9eT8YL",
        "outputId": "f83de8cc-774c-4df3-c8de-de82dedf36ca"
      },
      "source": [
        "plt.plot(train_fpr, train_tpr, label='Train AUC')\r\n",
        "plt.plot(test_fpr, test_tpr, label='Test AUC')\r\n",
        "plt.legend()\r\n",
        "plt.show()"
      ],
      "execution_count": 54,
      "outputs": [
        {
          "output_type": "display_data",
          "data": {
            "image/png": "[encoded data removed]",
            "text/plain": [
              "<Figure size 432x288 with 1 Axes>"
            ]
          },
          "metadata": {
            "tags": [],
            "needs_background": "light"
          }
        }
      ]
    },
    {
      "cell_type": "code",
      "metadata": {
        "colab": {
          "base_uri": "https://localhost:8080/"
        },
        "id": "IV_xn5eNX5wj",
        "outputId": "f4bd35ab-a966-4164-a54a-f9168f5df9b3"
      },
      "source": [
        "# classcification accuracy\r\n",
        "train_pred = model.predict(train).as_data_frame()['predict'].values\r\n",
        "test_pred = model.predict(test).as_data_frame()['predict'].values\r\n",
        "train_accu = accuracy_score(train_true, train_pred)\r\n",
        "test_accu = accuracy_score(test_true, test_pred)\r\n",
        "print(train_accu, test_accu)"
      ],
      "execution_count": 60,
      "outputs": [
        {
          "output_type": "stream",
          "text": [
            "drf prediction progress: |████████████████████████████████████████████████| 100%\n",
            "drf prediction progress: |████████████████████████████████████████████████| 100%\n",
            "0.9504908327289288 0.9455028462998103\n"
          ],
          "name": "stdout"
        }
      ]
    },
    {
      "cell_type": "code",
      "metadata": {
        "colab": {
          "base_uri": "https://localhost:8080/",
          "height": 1000
        },
        "id": "lqs_7FfZUTnf",
        "outputId": "82d313a2-b78a-4131-df8e-aa4dcec5d2f8"
      },
      "source": [
        "model.partial_plot(train, cols=feature, figsize=(8, 15))"
      ],
      "execution_count": 55,
      "outputs": [
        {
          "output_type": "stream",
          "text": [
            "PartialDependencePlot progress: |█████████████████████████████████████████| 100%\n",
            "\n",
            "PartialDependence: Partial Dependence Plot of model DRF_model_python_1610315007466_1 on column 'country'.\n"
          ],
          "name": "stdout"
        },
        {
          "output_type": "display_data",
          "data": {
            "text/html": [
              "<div>\n",
              "<style scoped>\n",
              "    .dataframe tbody tr th:only-of-type {\n",
              "        vertical-align: middle;\n",
              "    }\n",
              "\n",
              "    .dataframe tbody tr th {\n",
              "        vertical-align: top;\n",
              "    }\n",
              "\n",
              "    .dataframe thead th {\n",
              "        text-align: right;\n",
              "    }\n",
              "</style>\n",
              "<table border=\"1\" class=\"dataframe\">\n",
              "  <thead>\n",
              "    <tr style=\"text-align: right;\">\n",
              "      <th></th>\n",
              "      <th>country</th>\n",
              "      <th>mean_response</th>\n",
              "      <th>stddev_response</th>\n",
              "      <th>std_error_mean_response</th>\n",
              "    </tr>\n",
              "  </thead>\n",
              "  <tbody>\n",
              "    <tr>\n",
              "      <th>0</th>\n",
              "      <td>China</td>\n",
              "      <td>0.002176</td>\n",
              "      <td>0.017878</td>\n",
              "      <td>0.000037</td>\n",
              "    </tr>\n",
              "    <tr>\n",
              "      <th>1</th>\n",
              "      <td>Germany</td>\n",
              "      <td>0.031294</td>\n",
              "      <td>0.147333</td>\n",
              "      <td>0.000303</td>\n",
              "    </tr>\n",
              "    <tr>\n",
              "      <th>2</th>\n",
              "      <td>UK</td>\n",
              "      <td>0.033853</td>\n",
              "      <td>0.144128</td>\n",
              "      <td>0.000296</td>\n",
              "    </tr>\n",
              "    <tr>\n",
              "      <th>3</th>\n",
              "      <td>US</td>\n",
              "      <td>0.029268</td>\n",
              "      <td>0.122297</td>\n",
              "      <td>0.000251</td>\n",
              "    </tr>\n",
              "  </tbody>\n",
              "</table>\n",
              "</div>"
            ],
            "text/plain": [
              "   country  mean_response  stddev_response  std_error_mean_response\n",
              "0    China       0.002176         0.017878                 0.000037\n",
              "1  Germany       0.031294         0.147333                 0.000303\n",
              "2       UK       0.033853         0.144128                 0.000296\n",
              "3       US       0.029268         0.122297                 0.000251"
            ]
          },
          "metadata": {
            "tags": []
          }
        },
        {
          "output_type": "stream",
          "text": [
            "\n",
            "PartialDependence: Partial Dependence Plot of model DRF_model_python_1610315007466_1 on column 'age'.\n"
          ],
          "name": "stdout"
        },
        {
          "output_type": "display_data",
          "data": {
            "text/html": [
              "<div>\n",
              "<style scoped>\n",
              "    .dataframe tbody tr th:only-of-type {\n",
              "        vertical-align: middle;\n",
              "    }\n",
              "\n",
              "    .dataframe tbody tr th {\n",
              "        vertical-align: top;\n",
              "    }\n",
              "\n",
              "    .dataframe thead th {\n",
              "        text-align: right;\n",
              "    }\n",
              "</style>\n",
              "<table border=\"1\" class=\"dataframe\">\n",
              "  <thead>\n",
              "    <tr style=\"text-align: right;\">\n",
              "      <th></th>\n",
              "      <th>age</th>\n",
              "      <th>mean_response</th>\n",
              "      <th>stddev_response</th>\n",
              "      <th>std_error_mean_response</th>\n",
              "    </tr>\n",
              "  </thead>\n",
              "  <tbody>\n",
              "    <tr>\n",
              "      <th>0</th>\n",
              "      <td>17.000000</td>\n",
              "      <td>0.035553</td>\n",
              "      <td>0.137923</td>\n",
              "      <td>0.000283</td>\n",
              "    </tr>\n",
              "    <tr>\n",
              "      <th>1</th>\n",
              "      <td>20.263158</td>\n",
              "      <td>0.034691</td>\n",
              "      <td>0.139038</td>\n",
              "      <td>0.000286</td>\n",
              "    </tr>\n",
              "    <tr>\n",
              "      <th>2</th>\n",
              "      <td>23.526316</td>\n",
              "      <td>0.030728</td>\n",
              "      <td>0.133200</td>\n",
              "      <td>0.000274</td>\n",
              "    </tr>\n",
              "    <tr>\n",
              "      <th>3</th>\n",
              "      <td>26.789474</td>\n",
              "      <td>0.028598</td>\n",
              "      <td>0.128268</td>\n",
              "      <td>0.000263</td>\n",
              "    </tr>\n",
              "    <tr>\n",
              "      <th>4</th>\n",
              "      <td>30.052632</td>\n",
              "      <td>0.026105</td>\n",
              "      <td>0.120387</td>\n",
              "      <td>0.000247</td>\n",
              "    </tr>\n",
              "    <tr>\n",
              "      <th>5</th>\n",
              "      <td>33.315789</td>\n",
              "      <td>0.023417</td>\n",
              "      <td>0.112948</td>\n",
              "      <td>0.000232</td>\n",
              "    </tr>\n",
              "    <tr>\n",
              "      <th>6</th>\n",
              "      <td>36.578947</td>\n",
              "      <td>0.021005</td>\n",
              "      <td>0.111652</td>\n",
              "      <td>0.000229</td>\n",
              "    </tr>\n",
              "    <tr>\n",
              "      <th>7</th>\n",
              "      <td>39.842105</td>\n",
              "      <td>0.018553</td>\n",
              "      <td>0.107055</td>\n",
              "      <td>0.000220</td>\n",
              "    </tr>\n",
              "    <tr>\n",
              "      <th>8</th>\n",
              "      <td>43.105263</td>\n",
              "      <td>0.015003</td>\n",
              "      <td>0.086771</td>\n",
              "      <td>0.000178</td>\n",
              "    </tr>\n",
              "    <tr>\n",
              "      <th>9</th>\n",
              "      <td>46.368421</td>\n",
              "      <td>0.013974</td>\n",
              "      <td>0.092298</td>\n",
              "      <td>0.000190</td>\n",
              "    </tr>\n",
              "    <tr>\n",
              "      <th>10</th>\n",
              "      <td>49.631579</td>\n",
              "      <td>0.008365</td>\n",
              "      <td>0.052998</td>\n",
              "      <td>0.000109</td>\n",
              "    </tr>\n",
              "    <tr>\n",
              "      <th>11</th>\n",
              "      <td>52.894737</td>\n",
              "      <td>0.005234</td>\n",
              "      <td>0.049481</td>\n",
              "      <td>0.000102</td>\n",
              "    </tr>\n",
              "    <tr>\n",
              "      <th>12</th>\n",
              "      <td>56.157895</td>\n",
              "      <td>0.001248</td>\n",
              "      <td>0.005975</td>\n",
              "      <td>0.000012</td>\n",
              "    </tr>\n",
              "    <tr>\n",
              "      <th>13</th>\n",
              "      <td>59.421053</td>\n",
              "      <td>0.002094</td>\n",
              "      <td>0.015342</td>\n",
              "      <td>0.000032</td>\n",
              "    </tr>\n",
              "    <tr>\n",
              "      <th>14</th>\n",
              "      <td>62.684211</td>\n",
              "      <td>0.003123</td>\n",
              "      <td>0.017937</td>\n",
              "      <td>0.000037</td>\n",
              "    </tr>\n",
              "    <tr>\n",
              "      <th>15</th>\n",
              "      <td>65.947368</td>\n",
              "      <td>0.003123</td>\n",
              "      <td>0.017937</td>\n",
              "      <td>0.000037</td>\n",
              "    </tr>\n",
              "    <tr>\n",
              "      <th>16</th>\n",
              "      <td>69.210526</td>\n",
              "      <td>0.003123</td>\n",
              "      <td>0.017937</td>\n",
              "      <td>0.000037</td>\n",
              "    </tr>\n",
              "    <tr>\n",
              "      <th>17</th>\n",
              "      <td>72.473684</td>\n",
              "      <td>0.003123</td>\n",
              "      <td>0.017937</td>\n",
              "      <td>0.000037</td>\n",
              "    </tr>\n",
              "    <tr>\n",
              "      <th>18</th>\n",
              "      <td>75.736842</td>\n",
              "      <td>0.003123</td>\n",
              "      <td>0.017937</td>\n",
              "      <td>0.000037</td>\n",
              "    </tr>\n",
              "    <tr>\n",
              "      <th>19</th>\n",
              "      <td>79.000000</td>\n",
              "      <td>0.003123</td>\n",
              "      <td>0.017937</td>\n",
              "      <td>0.000037</td>\n",
              "    </tr>\n",
              "  </tbody>\n",
              "</table>\n",
              "</div>"
            ],
            "text/plain": [
              "          age  mean_response  stddev_response  std_error_mean_response\n",
              "0   17.000000       0.035553         0.137923                 0.000283\n",
              "1   20.263158       0.034691         0.139038                 0.000286\n",
              "2   23.526316       0.030728         0.133200                 0.000274\n",
              "3   26.789474       0.028598         0.128268                 0.000263\n",
              "4   30.052632       0.026105         0.120387                 0.000247\n",
              "5   33.315789       0.023417         0.112948                 0.000232\n",
              "6   36.578947       0.021005         0.111652                 0.000229\n",
              "7   39.842105       0.018553         0.107055                 0.000220\n",
              "8   43.105263       0.015003         0.086771                 0.000178\n",
              "9   46.368421       0.013974         0.092298                 0.000190\n",
              "10  49.631579       0.008365         0.052998                 0.000109\n",
              "11  52.894737       0.005234         0.049481                 0.000102\n",
              "12  56.157895       0.001248         0.005975                 0.000012\n",
              "13  59.421053       0.002094         0.015342                 0.000032\n",
              "14  62.684211       0.003123         0.017937                 0.000037\n",
              "15  65.947368       0.003123         0.017937                 0.000037\n",
              "16  69.210526       0.003123         0.017937                 0.000037\n",
              "17  72.473684       0.003123         0.017937                 0.000037\n",
              "18  75.736842       0.003123         0.017937                 0.000037\n",
              "19  79.000000       0.003123         0.017937                 0.000037"
            ]
          },
          "metadata": {
            "tags": []
          }
        },
        {
          "output_type": "stream",
          "text": [
            "\n",
            "PartialDependence: Partial Dependence Plot of model DRF_model_python_1610315007466_1 on column 'new_user'.\n"
          ],
          "name": "stdout"
        },
        {
          "output_type": "display_data",
          "data": {
            "text/html": [
              "<div>\n",
              "<style scoped>\n",
              "    .dataframe tbody tr th:only-of-type {\n",
              "        vertical-align: middle;\n",
              "    }\n",
              "\n",
              "    .dataframe tbody tr th {\n",
              "        vertical-align: top;\n",
              "    }\n",
              "\n",
              "    .dataframe thead th {\n",
              "        text-align: right;\n",
              "    }\n",
              "</style>\n",
              "<table border=\"1\" class=\"dataframe\">\n",
              "  <thead>\n",
              "    <tr style=\"text-align: right;\">\n",
              "      <th></th>\n",
              "      <th>new_user</th>\n",
              "      <th>mean_response</th>\n",
              "      <th>stddev_response</th>\n",
              "      <th>std_error_mean_response</th>\n",
              "    </tr>\n",
              "  </thead>\n",
              "  <tbody>\n",
              "    <tr>\n",
              "      <th>0</th>\n",
              "      <td>0</td>\n",
              "      <td>0.039582</td>\n",
              "      <td>0.148094</td>\n",
              "      <td>0.000304</td>\n",
              "    </tr>\n",
              "    <tr>\n",
              "      <th>1</th>\n",
              "      <td>1</td>\n",
              "      <td>0.017573</td>\n",
              "      <td>0.092473</td>\n",
              "      <td>0.000190</td>\n",
              "    </tr>\n",
              "  </tbody>\n",
              "</table>\n",
              "</div>"
            ],
            "text/plain": [
              "  new_user  mean_response  stddev_response  std_error_mean_response\n",
              "0        0       0.039582         0.148094                 0.000304\n",
              "1        1       0.017573         0.092473                 0.000190"
            ]
          },
          "metadata": {
            "tags": []
          }
        },
        {
          "output_type": "stream",
          "text": [
            "\n",
            "PartialDependence: Partial Dependence Plot of model DRF_model_python_1610315007466_1 on column 'source'.\n"
          ],
          "name": "stdout"
        },
        {
          "output_type": "display_data",
          "data": {
            "text/html": [
              "<div>\n",
              "<style scoped>\n",
              "    .dataframe tbody tr th:only-of-type {\n",
              "        vertical-align: middle;\n",
              "    }\n",
              "\n",
              "    .dataframe tbody tr th {\n",
              "        vertical-align: top;\n",
              "    }\n",
              "\n",
              "    .dataframe thead th {\n",
              "        text-align: right;\n",
              "    }\n",
              "</style>\n",
              "<table border=\"1\" class=\"dataframe\">\n",
              "  <thead>\n",
              "    <tr style=\"text-align: right;\">\n",
              "      <th></th>\n",
              "      <th>source</th>\n",
              "      <th>mean_response</th>\n",
              "      <th>stddev_response</th>\n",
              "      <th>std_error_mean_response</th>\n",
              "    </tr>\n",
              "  </thead>\n",
              "  <tbody>\n",
              "    <tr>\n",
              "      <th>0</th>\n",
              "      <td>Ads</td>\n",
              "      <td>0.027800</td>\n",
              "      <td>0.127673</td>\n",
              "      <td>0.000262</td>\n",
              "    </tr>\n",
              "    <tr>\n",
              "      <th>1</th>\n",
              "      <td>Direct</td>\n",
              "      <td>0.025539</td>\n",
              "      <td>0.123701</td>\n",
              "      <td>0.000254</td>\n",
              "    </tr>\n",
              "    <tr>\n",
              "      <th>2</th>\n",
              "      <td>Seo</td>\n",
              "      <td>0.028166</td>\n",
              "      <td>0.126813</td>\n",
              "      <td>0.000260</td>\n",
              "    </tr>\n",
              "  </tbody>\n",
              "</table>\n",
              "</div>"
            ],
            "text/plain": [
              "   source  mean_response  stddev_response  std_error_mean_response\n",
              "0     Ads       0.027800         0.127673                 0.000262\n",
              "1  Direct       0.025539         0.123701                 0.000254\n",
              "2     Seo       0.028166         0.126813                 0.000260"
            ]
          },
          "metadata": {
            "tags": []
          }
        },
        {
          "output_type": "stream",
          "text": [
            "\n",
            "PartialDependence: Partial Dependence Plot of model DRF_model_python_1610315007466_1 on column 'total_pages_visited'.\n"
          ],
          "name": "stdout"
        },
        {
          "output_type": "display_data",
          "data": {
            "text/html": [
              "<div>\n",
              "<style scoped>\n",
              "    .dataframe tbody tr th:only-of-type {\n",
              "        vertical-align: middle;\n",
              "    }\n",
              "\n",
              "    .dataframe tbody tr th {\n",
              "        vertical-align: top;\n",
              "    }\n",
              "\n",
              "    .dataframe thead th {\n",
              "        text-align: right;\n",
              "    }\n",
              "</style>\n",
              "<table border=\"1\" class=\"dataframe\">\n",
              "  <thead>\n",
              "    <tr style=\"text-align: right;\">\n",
              "      <th></th>\n",
              "      <th>total_pages_visited</th>\n",
              "      <th>mean_response</th>\n",
              "      <th>stddev_response</th>\n",
              "      <th>std_error_mean_response</th>\n",
              "    </tr>\n",
              "  </thead>\n",
              "  <tbody>\n",
              "    <tr>\n",
              "      <th>0</th>\n",
              "      <td>1.000000</td>\n",
              "      <td>0.000278</td>\n",
              "      <td>0.000220</td>\n",
              "      <td>4.513547e-07</td>\n",
              "    </tr>\n",
              "    <tr>\n",
              "      <th>1</th>\n",
              "      <td>2.473684</td>\n",
              "      <td>0.000505</td>\n",
              "      <td>0.002187</td>\n",
              "      <td>4.491576e-06</td>\n",
              "    </tr>\n",
              "    <tr>\n",
              "      <th>2</th>\n",
              "      <td>3.947368</td>\n",
              "      <td>0.001051</td>\n",
              "      <td>0.004032</td>\n",
              "      <td>8.280196e-06</td>\n",
              "    </tr>\n",
              "    <tr>\n",
              "      <th>3</th>\n",
              "      <td>5.421053</td>\n",
              "      <td>0.001532</td>\n",
              "      <td>0.005243</td>\n",
              "      <td>1.076718e-05</td>\n",
              "    </tr>\n",
              "    <tr>\n",
              "      <th>4</th>\n",
              "      <td>6.894737</td>\n",
              "      <td>0.006019</td>\n",
              "      <td>0.015014</td>\n",
              "      <td>3.083116e-05</td>\n",
              "    </tr>\n",
              "    <tr>\n",
              "      <th>5</th>\n",
              "      <td>8.368421</td>\n",
              "      <td>0.012925</td>\n",
              "      <td>0.029890</td>\n",
              "      <td>6.137931e-05</td>\n",
              "    </tr>\n",
              "    <tr>\n",
              "      <th>6</th>\n",
              "      <td>9.842105</td>\n",
              "      <td>0.054035</td>\n",
              "      <td>0.087426</td>\n",
              "      <td>1.795281e-04</td>\n",
              "    </tr>\n",
              "    <tr>\n",
              "      <th>7</th>\n",
              "      <td>11.315789</td>\n",
              "      <td>0.095240</td>\n",
              "      <td>0.141360</td>\n",
              "      <td>2.902793e-04</td>\n",
              "    </tr>\n",
              "    <tr>\n",
              "      <th>8</th>\n",
              "      <td>12.789474</td>\n",
              "      <td>0.231754</td>\n",
              "      <td>0.262387</td>\n",
              "      <td>5.388058e-04</td>\n",
              "    </tr>\n",
              "    <tr>\n",
              "      <th>9</th>\n",
              "      <td>14.263158</td>\n",
              "      <td>0.322002</td>\n",
              "      <td>0.304628</td>\n",
              "      <td>6.255462e-04</td>\n",
              "    </tr>\n",
              "    <tr>\n",
              "      <th>10</th>\n",
              "      <td>15.736842</td>\n",
              "      <td>0.449487</td>\n",
              "      <td>0.343560</td>\n",
              "      <td>7.054934e-04</td>\n",
              "    </tr>\n",
              "    <tr>\n",
              "      <th>11</th>\n",
              "      <td>17.210526</td>\n",
              "      <td>0.500115</td>\n",
              "      <td>0.327083</td>\n",
              "      <td>6.716574e-04</td>\n",
              "    </tr>\n",
              "    <tr>\n",
              "      <th>12</th>\n",
              "      <td>18.684211</td>\n",
              "      <td>0.555093</td>\n",
              "      <td>0.327770</td>\n",
              "      <td>6.730678e-04</td>\n",
              "    </tr>\n",
              "    <tr>\n",
              "      <th>13</th>\n",
              "      <td>20.157895</td>\n",
              "      <td>0.569339</td>\n",
              "      <td>0.321094</td>\n",
              "      <td>6.593607e-04</td>\n",
              "    </tr>\n",
              "    <tr>\n",
              "      <th>14</th>\n",
              "      <td>21.631579</td>\n",
              "      <td>0.572190</td>\n",
              "      <td>0.319784</td>\n",
              "      <td>6.566696e-04</td>\n",
              "    </tr>\n",
              "    <tr>\n",
              "      <th>15</th>\n",
              "      <td>23.105263</td>\n",
              "      <td>0.572213</td>\n",
              "      <td>0.319745</td>\n",
              "      <td>6.565906e-04</td>\n",
              "    </tr>\n",
              "    <tr>\n",
              "      <th>16</th>\n",
              "      <td>24.578947</td>\n",
              "      <td>0.572213</td>\n",
              "      <td>0.319745</td>\n",
              "      <td>6.565906e-04</td>\n",
              "    </tr>\n",
              "    <tr>\n",
              "      <th>17</th>\n",
              "      <td>26.052632</td>\n",
              "      <td>0.572213</td>\n",
              "      <td>0.319745</td>\n",
              "      <td>6.565906e-04</td>\n",
              "    </tr>\n",
              "    <tr>\n",
              "      <th>18</th>\n",
              "      <td>27.526316</td>\n",
              "      <td>0.572213</td>\n",
              "      <td>0.319745</td>\n",
              "      <td>6.565906e-04</td>\n",
              "    </tr>\n",
              "    <tr>\n",
              "      <th>19</th>\n",
              "      <td>29.000000</td>\n",
              "      <td>0.572213</td>\n",
              "      <td>0.319745</td>\n",
              "      <td>6.565906e-04</td>\n",
              "    </tr>\n",
              "  </tbody>\n",
              "</table>\n",
              "</div>"
            ],
            "text/plain": [
              "    total_pages_visited  ...  std_error_mean_response\n",
              "0              1.000000  ...             4.513547e-07\n",
              "1              2.473684  ...             4.491576e-06\n",
              "2              3.947368  ...             8.280196e-06\n",
              "3              5.421053  ...             1.076718e-05\n",
              "4              6.894737  ...             3.083116e-05\n",
              "5              8.368421  ...             6.137931e-05\n",
              "6              9.842105  ...             1.795281e-04\n",
              "7             11.315789  ...             2.902793e-04\n",
              "8             12.789474  ...             5.388058e-04\n",
              "9             14.263158  ...             6.255462e-04\n",
              "10            15.736842  ...             7.054934e-04\n",
              "11            17.210526  ...             6.716574e-04\n",
              "12            18.684211  ...             6.730678e-04\n",
              "13            20.157895  ...             6.593607e-04\n",
              "14            21.631579  ...             6.566696e-04\n",
              "15            23.105263  ...             6.565906e-04\n",
              "16            24.578947  ...             6.565906e-04\n",
              "17            26.052632  ...             6.565906e-04\n",
              "18            27.526316  ...             6.565906e-04\n",
              "19            29.000000  ...             6.565906e-04\n",
              "\n",
              "[20 rows x 4 columns]"
            ]
          },
          "metadata": {
            "tags": []
          }
        },
        {
          "output_type": "execute_result",
          "data": {
            "text/plain": [
              "[, , , , ]"
            ]
          },
          "metadata": {
            "tags": []
          },
          "execution_count": 55
        },
        {
          "output_type": "display_data",
          "data": {
            "image/png": "[encoded data removed]",
            "text/plain": [
              "<Figure size 576x1080 with 5 Axes>"
            ]
          },
          "metadata": {
            "tags": [],
            "needs_background": "light"
          }
        }
      ]
    },
    {
      "cell_type": "markdown",
      "metadata": {
        "id": "kcuL4Uc-XahE"
      },
      "source": [
        "# OHE + Sklearn\r\n"
      ]
    },
    {
      "cell_type": "code",
      "metadata": {
        "colab": {
          "base_uri": "https://localhost:8080/",
          "height": 422
        },
        "id": "UhIz3uzmXe1F",
        "outputId": "e493f500-c301-4305-b313-968f6fef8468"
      },
      "source": [
        "data_dummy = pd.get_dummies(data, columns=['country', 'source'])\r\n",
        "data_dummy"
      ],
      "execution_count": 61,
      "outputs": [
        {
          "output_type": "execute_result",
          "data": {
            "text/html": [
              "<div>\n",
              "<style scoped>\n",
              "    .dataframe tbody tr th:only-of-type {\n",
              "        vertical-align: middle;\n",
              "    }\n",
              "\n",
              "    .dataframe tbody tr th {\n",
              "        vertical-align: top;\n",
              "    }\n",
              "\n",
              "    .dataframe thead th {\n",
              "        text-align: right;\n",
              "    }\n",
              "</style>\n",
              "<table border=\"1\" class=\"dataframe\">\n",
              "  <thead>\n",
              "    <tr style=\"text-align: right;\">\n",
              "      <th></th>\n",
              "      <th>age</th>\n",
              "      <th>new_user</th>\n",
              "      <th>total_pages_visited</th>\n",
              "      <th>converted</th>\n",
              "      <th>country_China</th>\n",
              "      <th>country_Germany</th>\n",
              "      <th>country_UK</th>\n",
              "      <th>country_US</th>\n",
              "      <th>source_Ads</th>\n",
              "      <th>source_Direct</th>\n",
              "      <th>source_Seo</th>\n",
              "    </tr>\n",
              "  </thead>\n",
              "  <tbody>\n",
              "    <tr>\n",
              "      <th>0</th>\n",
              "      <td>25</td>\n",
              "      <td>1</td>\n",
              "      <td>1</td>\n",
              "      <td>0</td>\n",
              "      <td>0</td>\n",
              "      <td>0</td>\n",
              "      <td>1</td>\n",
              "      <td>0</td>\n",
              "      <td>1</td>\n",
              "      <td>0</td>\n",
              "      <td>0</td>\n",
              "    </tr>\n",
              "    <tr>\n",
              "      <th>1</th>\n",
              "      <td>23</td>\n",
              "      <td>1</td>\n",
              "      <td>5</td>\n",
              "      <td>0</td>\n",
              "      <td>0</td>\n",
              "      <td>0</td>\n",
              "      <td>0</td>\n",
              "      <td>1</td>\n",
              "      <td>0</td>\n",
              "      <td>0</td>\n",
              "      <td>1</td>\n",
              "    </tr>\n",
              "    <tr>\n",
              "      <th>2</th>\n",
              "      <td>28</td>\n",
              "      <td>1</td>\n",
              "      <td>4</td>\n",
              "      <td>0</td>\n",
              "      <td>0</td>\n",
              "      <td>0</td>\n",
              "      <td>0</td>\n",
              "      <td>1</td>\n",
              "      <td>0</td>\n",
              "      <td>0</td>\n",
              "      <td>1</td>\n",
              "    </tr>\n",
              "    <tr>\n",
              "      <th>3</th>\n",
              "      <td>39</td>\n",
              "      <td>1</td>\n",
              "      <td>5</td>\n",
              "      <td>0</td>\n",
              "      <td>1</td>\n",
              "      <td>0</td>\n",
              "      <td>0</td>\n",
              "      <td>0</td>\n",
              "      <td>0</td>\n",
              "      <td>0</td>\n",
              "      <td>1</td>\n",
              "    </tr>\n",
              "    <tr>\n",
              "      <th>4</th>\n",
              "      <td>30</td>\n",
              "      <td>1</td>\n",
              "      <td>6</td>\n",
              "      <td>0</td>\n",
              "      <td>0</td>\n",
              "      <td>0</td>\n",
              "      <td>0</td>\n",
              "      <td>1</td>\n",
              "      <td>0</td>\n",
              "      <td>0</td>\n",
              "      <td>1</td>\n",
              "    </tr>\n",
              "    <tr>\n",
              "      <th>...</th>\n",
              "      <td>...</td>\n",
              "      <td>...</td>\n",
              "      <td>...</td>\n",
              "      <td>...</td>\n",
              "      <td>...</td>\n",
              "      <td>...</td>\n",
              "      <td>...</td>\n",
              "      <td>...</td>\n",
              "      <td>...</td>\n",
              "      <td>...</td>\n",
              "      <td>...</td>\n",
              "    </tr>\n",
              "    <tr>\n",
              "      <th>316193</th>\n",
              "      <td>26</td>\n",
              "      <td>1</td>\n",
              "      <td>9</td>\n",
              "      <td>0</td>\n",
              "      <td>0</td>\n",
              "      <td>0</td>\n",
              "      <td>0</td>\n",
              "      <td>1</td>\n",
              "      <td>1</td>\n",
              "      <td>0</td>\n",
              "      <td>0</td>\n",
              "    </tr>\n",
              "    <tr>\n",
              "      <th>316194</th>\n",
              "      <td>27</td>\n",
              "      <td>1</td>\n",
              "      <td>6</td>\n",
              "      <td>0</td>\n",
              "      <td>0</td>\n",
              "      <td>0</td>\n",
              "      <td>0</td>\n",
              "      <td>1</td>\n",
              "      <td>0</td>\n",
              "      <td>1</td>\n",
              "      <td>0</td>\n",
              "    </tr>\n",
              "    <tr>\n",
              "      <th>316195</th>\n",
              "      <td>25</td>\n",
              "      <td>0</td>\n",
              "      <td>4</td>\n",
              "      <td>0</td>\n",
              "      <td>1</td>\n",
              "      <td>0</td>\n",
              "      <td>0</td>\n",
              "      <td>0</td>\n",
              "      <td>1</td>\n",
              "      <td>0</td>\n",
              "      <td>0</td>\n",
              "    </tr>\n",
              "    <tr>\n",
              "      <th>316196</th>\n",
              "      <td>22</td>\n",
              "      <td>0</td>\n",
              "      <td>4</td>\n",
              "      <td>0</td>\n",
              "      <td>0</td>\n",
              "      <td>0</td>\n",
              "      <td>0</td>\n",
              "      <td>1</td>\n",
              "      <td>0</td>\n",
              "      <td>0</td>\n",
              "      <td>1</td>\n",
              "    </tr>\n",
              "    <tr>\n",
              "      <th>316197</th>\n",
              "      <td>24</td>\n",
              "      <td>0</td>\n",
              "      <td>4</td>\n",
              "      <td>0</td>\n",
              "      <td>0</td>\n",
              "      <td>0</td>\n",
              "      <td>1</td>\n",
              "      <td>0</td>\n",
              "      <td>1</td>\n",
              "      <td>0</td>\n",
              "      <td>0</td>\n",
              "    </tr>\n",
              "  </tbody>\n",
              "</table>\n",
              "<p>316198 rows × 11 columns</p>\n",
              "</div>"
            ],
            "text/plain": [
              "        age  new_user  ...  source_Direct  source_Seo\n",
              "0        25         1  ...              0           0\n",
              "1        23         1  ...              0           1\n",
              "2        28         1  ...              0           1\n",
              "3        39         1  ...              0           1\n",
              "4        30         1  ...              0           1\n",
              "...     ...       ...  ...            ...         ...\n",
              "316193   26         1  ...              0           0\n",
              "316194   27         1  ...              1           0\n",
              "316195   25         0  ...              0           0\n",
              "316196   22         0  ...              0           1\n",
              "316197   24         0  ...              0           0\n",
              "\n",
              "[316198 rows x 11 columns]"
            ]
          },
          "metadata": {
            "tags": []
          },
          "execution_count": 61
        }
      ]
    },
    {
      "cell_type": "code",
      "metadata": {
        "id": "0wpMfD7PY8Bm"
      },
      "source": [
        "X = data_dummy.drop(columns='converted').values\r\n",
        "y = data_dummy.converted.values\r\n",
        "X_train, X_test, y_train, y_test = train_test_split(X, y, test_size=0.25, random_state=42)"
      ],
      "execution_count": 63,
      "outputs": []
    },
    {
      "cell_type": "code",
      "metadata": {
        "colab": {
          "base_uri": "https://localhost:8080/"
        },
        "id": "Bki5ZKRLZbgx",
        "outputId": "b556a303-424a-4713-d328-4cf3a2fba74a"
      },
      "source": [
        "xgb_model = XGBClassifier(max_depth=10, learning_rate=0.1, n_estimators=100, random_state=42)\r\n",
        "xgb_model.fit(X_train, y_train)"
      ],
      "execution_count": 65,
      "outputs": [
        {
          "output_type": "execute_result",
          "data": {
            "text/plain": [
              "XGBClassifier(base_score=0.5, booster='gbtree', colsample_bylevel=1,\n",
              "              colsample_bynode=1, colsample_bytree=1, gamma=0,\n",
              "              learning_rate=0.1, max_delta_step=0, max_depth=10,\n",
              "              min_child_weight=1, missing=None, n_estimators=100, n_jobs=1,\n",
              "              nthread=None, objective='binary:logistic', random_state=42,\n",
              "              reg_alpha=0, reg_lambda=1, scale_pos_weight=1, seed=None,\n",
              "              silent=None, subsample=1, verbosity=1)"
            ]
          },
          "metadata": {
            "tags": []
          },
          "execution_count": 65
        }
      ]
    },
    {
      "cell_type": "code",
      "metadata": {
        "colab": {
          "base_uri": "https://localhost:8080/"
        },
        "id": "d7N7ZWTrZuHa",
        "outputId": "8161dd18-3ac9-438e-b53f-5db1999a587c"
      },
      "source": [
        "train_pred_2 = xgb_model.predict(X_train)\r\n",
        "test_pred_2 = xgb_model.predict(X_test)\r\n",
        "train_accu_2 = accuracy_score(train_pred_2, y_train)\r\n",
        "test_accu_2 = accuracy_score(test_pred_2, y_test)\r\n",
        "print(train_accu_2, test_accu_2)"
      ],
      "execution_count": 66,
      "outputs": [
        {
          "output_type": "stream",
          "text": [
            "0.9870081130770658 0.9863377609108159\n"
          ],
          "name": "stdout"
        }
      ]
    }
  ]
}
